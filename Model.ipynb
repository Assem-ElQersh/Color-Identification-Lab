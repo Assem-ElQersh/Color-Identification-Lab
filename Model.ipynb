{
 "cells": [
  {
   "cell_type": "markdown",
   "id": "0bd55c48",
   "metadata": {},
   "source": [
    "# Color Identification in Images using OpenCV and LAB Color Space"
   ]
  },
  {
   "cell_type": "markdown",
   "id": "7d3381bc",
   "metadata": {},
   "source": [
    "This notebook identifies colors in an image using OpenCV. The color matching is done using the LAB color space for improved perceptual accuracy."
   ]
  },
  {
   "cell_type": "code",
   "execution_count": null,
   "id": "d6766801",
   "metadata": {},
   "outputs": [],
   "source": [
    "# Importing the required libraries\n",
    "import cv2\n",
    "import pandas as pd\n",
    "import numpy as np"
   ]
  },
  {
   "cell_type": "markdown",
   "id": "678c9c74",
   "metadata": {},
   "source": [
    "## Loading Colors Data from CSV"
   ]
  },
  {
   "cell_type": "code",
   "execution_count": null,
   "id": "b0f29efe",
   "metadata": {},
   "outputs": [],
   "source": [
    "# Function to load colors from a CSV file\n",
    "def load_colors(csv_path):\n",
    "    columns = ['ColorName', 'Hex', 'R', 'G', 'B']\n",
    "    colors = pd.read_csv(csv_path, names=columns)\n",
    "    return colors\n",
    "\n",
    "# Load colors\n",
    "colors_path = 'Colors.csv'  # Path to your CSV file\n",
    "colors_df = load_colors(colors_path)\n",
    "colors_df.head()"
   ]
  },
  {
   "cell_type": "markdown",
   "id": "a4cc44ee",
   "metadata": {},
   "source": [
    "## Improved Color Matching Function using LAB Color Space"
   ]
  },
  {
   "cell_type": "code",
   "execution_count": null,
   "id": "b02e82a8",
   "metadata": {},
   "outputs": [],
   "source": [
    "# Function to get the closest color name\n",
    "def get_color_name(R, G, B, colors_df):\n",
    "    # Convert RGB to LAB (CIELAB) color space for better perceptual matching\n",
    "    color_diff = []\n",
    "    for index, row in colors_df.iterrows():\n",
    "        lab1 = cv2.cvtColor(np.uint8([[row[['B', 'G', 'R']]]]), cv2.COLOR_BGR2LAB)\n",
    "        lab2 = cv2.cvtColor(np.uint8([[[B, G, R]]]), cv2.COLOR_BGR2LAB)\n",
    "        delta_e = np.linalg.norm(lab1 - lab2)  # Euclidean distance in LAB space\n",
    "        color_diff.append((delta_e, row['ColorName']))\n",
    "    \n",
    "    # Get the closest color\n",
    "    closest_color = min(color_diff, key=lambda x: x[0])\n",
    "    return closest_color[1]"
   ]
  },
  {
   "cell_type": "markdown",
   "id": "7a7e68f8",
   "metadata": {},
   "source": [
    "## Image Loading and Mouse Interaction"
   ]
  },
  {
   "cell_type": "code",
   "execution_count": null,
   "id": "8a9508bf",
   "metadata": {},
   "outputs": [],
   "source": [
    "# Load image\n",
    "image_path = 'Image.jpg'  # Path to your image file\n",
    "image = cv2.imread(image_path)\n",
    "\n",
    "# Variables for storing coordinates and color values\n",
    "clicked = False\n",
    "r = g = b = x_pos = y_pos = 0\n",
    "\n",
    "def draw_function(event, x, y, flags, param):\n",
    "    global clicked, r, g, b, x_pos, y_pos\n",
    "    if event == cv2.EVENT_LBUTTONDOWN:\n",
    "        clicked = True\n",
    "        x_pos = x\n",
    "        y_pos = y\n",
    "        b, g, r = image[y, x]  # Get BGR values\n",
    "\n",
    "cv2.namedWindow('Improved Color Detection')\n",
    "cv2.setMouseCallback('Improved Color Detection', draw_function)"
   ]
  },
  {
   "cell_type": "markdown",
   "id": "1e7eedec",
   "metadata": {},
   "source": [
    "## Displaying Color Information on Image"
   ]
  },
  {
   "cell_type": "code",
   "execution_count": null,
   "id": "b765b924",
   "metadata": {},
   "outputs": [],
   "source": [
    "while True:\n",
    "    cv2.imshow('Improved Color Detection', image)\n",
    "    if clicked:\n",
    "        # Draw a rectangle with the detected color\n",
    "        cv2.rectangle(image, (20, 20), (750, 60), (int(b), int(g), int(r)), -1)\n",
    "        # Get the color name\n",
    "        color_name = get_color_name(r, g, b, colors_df)\n",
    "        text = f'{color_name} R={r} G={g} B={b}'\n",
    "        \n",
    "        # Set text color for visibility\n",
    "        text_color = (0, 0, 0) if r+g+b > 500 else (255, 255, 255)\n",
    "        cv2.putText(image, text, (50, 50), 2, 0.8, text_color, 2, cv2.LINE_AA)\n",
    "        clicked = False\n",
    "\n",
    "    if cv2.waitKey(20) & 0xFF == 27:\n",
    "        break\n",
    "\n",
    "cv2.destroyAllWindows()"
   ]
  }
 ],
 "metadata": {
  "kernelspec": {
   "display_name": "base",
   "language": "python",
   "name": "python3"
  },
  "language_info": {
   "codemirror_mode": {
    "name": "ipython",
    "version": 3
   },
   "file_extension": ".py",
   "mimetype": "text/x-python",
   "name": "python",
   "nbconvert_exporter": "python",
   "pygments_lexer": "ipython3",
   "version": "3.11.7"
  }
 },
 "nbformat": 4,
 "nbformat_minor": 5
}
